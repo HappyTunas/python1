{
  "nbformat": 4,
  "nbformat_minor": 0,
  "metadata": {
    "colab": {
      "name": "Assignment2.ipynb",
      "provenance": [],
      "collapsed_sections": [],
      "authorship_tag": "ABX9TyMfw7A3wiiXZjdYbHOH9QTb",
      "include_colab_link": true
    },
    "kernelspec": {
      "name": "python3",
      "display_name": "Python 3"
    },
    "language_info": {
      "name": "python"
    }
  },
  "cells": [
    {
      "cell_type": "markdown",
      "metadata": {
        "id": "view-in-github",
        "colab_type": "text"
      },
      "source": [
        "<a href=\"https://colab.research.google.com/github/HappyTunas/python1/blob/main/Assignment2.ipynb\" target=\"_parent\"><img src=\"https://colab.research.google.com/assets/colab-badge.svg\" alt=\"Open In Colab\"/></a>"
      ]
    },
    {
      "cell_type": "code",
      "metadata": {
        "colab": {
          "base_uri": "https://localhost:8080/"
        },
        "id": "sbX_9FtaCKJt",
        "outputId": "3d1b2a72-e6a3-486a-b38f-006be5a740fa"
      },
      "source": [
        "#Question 1-1\n",
        "x = int(input(\"What is your number? :\"))\n",
        "if x == 0 :\n",
        "  print(0)\n",
        "elif x > 0:\n",
        "  print(\"plus\")\n",
        "else :\n",
        "  print(\"minus\")"
      ],
      "execution_count": null,
      "outputs": [
        {
          "output_type": "stream",
          "name": "stdout",
          "text": [
            "What is your number? :-1\n",
            "minus\n"
          ]
        }
      ]
    },
    {
      "cell_type": "code",
      "metadata": {
        "colab": {
          "base_uri": "https://localhost:8080/"
        },
        "id": "NDFO712eMz_d",
        "outputId": "f178c422-bd4a-4db3-a829-bb9ecb58af25"
      },
      "source": [
        "#Question 1-2\n",
        "x = (input(\"What is your grade? :\"))\n",
        "\n",
        "if x == (\"A\"):\n",
        "  print(\"Excellent\")\n",
        "elif x == (\"B\"):\n",
        "  print(\"Good\")\n",
        "elif x == (\"C\"):\n",
        "  print(\"Usually\")\n",
        "elif x == (\"D\"):\n",
        "  print(\"Effort\")\n",
        "elif x == (\"F\"):\n",
        "  print(\"Failure\")\n",
        "else:\n",
        "  print(\"error\")"
      ],
      "execution_count": null,
      "outputs": [
        {
          "output_type": "stream",
          "name": "stdout",
          "text": [
            "What is your grade? :A\n",
            "Excellent\n"
          ]
        }
      ]
    },
    {
      "cell_type": "code",
      "metadata": {
        "colab": {
          "base_uri": "https://localhost:8080/"
        },
        "id": "UfaKO4FMNoz_",
        "outputId": "2d29bcab-7e4a-4e48-ff62-8a8d9b072483"
      },
      "source": [
        "#Question 1-3\n",
        "x = int(input(\"What is your number?:\"))\n",
        "if x == 1:\n",
        "  print(\"dog\")\n",
        "elif x == 2:\n",
        "  print(\"cat\")\n",
        "elif x == 3:\n",
        "  print(\"chick\")\n",
        "else:\n",
        "  print(\"I don't know\")"
      ],
      "execution_count": null,
      "outputs": [
        {
          "output_type": "stream",
          "name": "stdout",
          "text": [
            "What is your number?:2\n",
            "cat\n"
          ]
        }
      ]
    },
    {
      "cell_type": "code",
      "metadata": {
        "colab": {
          "base_uri": "https://localhost:8080/"
        },
        "id": "yXitgArkUDj8",
        "outputId": "7325aae3-a1dd-4b3b-fe20-185737f75250"
      },
      "source": [
        "#Question 1-4\n",
        "x = int(input(\"What is your month?:\"))\n",
        "if x == (1,3,5,7,8,10,12):\n",
        "  print(\"31 days\")\n",
        "elif x == 2:\n",
        "  print (\"28 days\")\n",
        "else :\n",
        "  print (\"31 days\")\n"
      ],
      "execution_count": null,
      "outputs": [
        {
          "output_type": "stream",
          "name": "stdout",
          "text": [
            "What is your month?:8\n",
            "31 days\n"
          ]
        }
      ]
    },
    {
      "cell_type": "code",
      "metadata": {
        "id": "bYZAfbZ1U6dm"
      },
      "source": [
        "#Question 1-5\n",
        "x = (input(\"What is your gender?:\"))\n",
        "y = int(input(\"What is your age?:\"))\n",
        "if x == (\"M\") and y >= 18:\n",
        "  print (\"You are MAN\")\n",
        "elif x == (\"F\") and y >= 18:\n",
        "  print(\"You are FEMALE\")\n",
        "elif x == (\"M\") and y < 18:\n",
        "  print(\"You are BOY\")\n",
        "elif x == (\"F\") and y < 18:\n",
        "  print (\"You are GIRL\")"
      ],
      "execution_count": null,
      "outputs": []
    },
    {
      "cell_type": "code",
      "metadata": {
        "colab": {
          "base_uri": "https://localhost:8080/"
        },
        "id": "lkL8AN0kXwDo",
        "outputId": "9d29278a-8832-4012-88c5-b8e25021ab59"
      },
      "source": [
        "#Question 1-6\n",
        "x = int(input(\"What is your year?:\"))\n",
        "if x%4 == 0 or x%400 == 0:\n",
        "  print(\"윤년입니다\")\n",
        "else:\n",
        "  print(\"평년입니다\")"
      ],
      "execution_count": null,
      "outputs": [
        {
          "output_type": "stream",
          "name": "stdout",
          "text": [
            "What is your year?:2008\n",
            "윤년입니다\n"
          ]
        }
      ]
    },
    {
      "cell_type": "code",
      "metadata": {
        "id": "6LVFw4B4ghzO"
      },
      "source": [
        ""
      ],
      "execution_count": null,
      "outputs": []
    }
  ]
}