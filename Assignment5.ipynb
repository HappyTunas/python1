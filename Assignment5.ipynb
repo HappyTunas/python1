{
  "nbformat": 4,
  "nbformat_minor": 0,
  "metadata": {
    "colab": {
      "name": "Assignment5.ipynb",
      "provenance": [],
      "authorship_tag": "ABX9TyOCpjB8Cey0fIe6BMIazt7l",
      "include_colab_link": true
    },
    "kernelspec": {
      "name": "python3",
      "display_name": "Python 3"
    },
    "language_info": {
      "name": "python"
    }
  },
  "cells": [
    {
      "cell_type": "markdown",
      "metadata": {
        "id": "view-in-github",
        "colab_type": "text"
      },
      "source": [
        "<a href=\"https://colab.research.google.com/github/HappyTunas/python1/blob/main/Assignment5.ipynb\" target=\"_parent\"><img src=\"https://colab.research.google.com/assets/colab-badge.svg\" alt=\"Open In Colab\"/></a>"
      ]
    },
    {
      "cell_type": "code",
      "metadata": {
        "colab": {
          "base_uri": "https://localhost:8080/"
        },
        "id": "gAyfzTIeeRMy",
        "outputId": "3ace484c-8de5-4c77-e26b-6b90744a1963"
      },
      "source": [
        "#1st question Solved\n",
        "sum = 0\n",
        "amount = 0\n",
        "n = int(input(\"What is your number?: \"))\n",
        "for x in range (1, n+1):\n",
        "  if x % 2 != 0:\n",
        "    sum = sum + x\n",
        "    amount = amount + 1\n",
        "    if sum >= n :\n",
        "      print (amount)\n",
        "      print (sum)\n",
        "      break\n",
        "  else:\n",
        "    continue"
      ],
      "execution_count": null,
      "outputs": [
        {
          "output_type": "stream",
          "name": "stdout",
          "text": [
            "What is your number?: 100\n",
            "10\n",
            "100\n"
          ]
        }
      ]
    },
    {
      "cell_type": "code",
      "metadata": {
        "colab": {
          "base_uri": "https://localhost:8080/"
        },
        "id": "JRKq7-uN_ON3",
        "outputId": "b15ed7ed-675e-4329-fe54-f5c473bc3b23"
      },
      "source": [
        "#2nd question\n",
        "stnum = int(input(\"What is your number?: \"))\n",
        "ndnum = int(input(\"What is your second number?: \"))\n",
        "midnum = (stnum + ndnum) * 1/2\n",
        "mulnum = 0\n",
        "\n",
        "for x in range (9):\n",
        "  if mulnum <= 9:\n",
        "    mulnum = mulnum + 1\n",
        "    print (stnum, '*', mulnum, '=',stnum * mulnum, '   ',midnum, '*', mulnum, '=',midnum * mulnum, '   ',ndnum, '*', mulnum, '=',ndnum * mulnum)"
      ],
      "execution_count": null,
      "outputs": [
        {
          "output_type": "stream",
          "name": "stdout",
          "text": [
            "What is your number?: 5\n",
            "What is your second number?: 3\n",
            "5 * 1 = 5     4.0 * 1 = 4.0     3 * 1 = 3\n",
            "5 * 2 = 10     4.0 * 2 = 8.0     3 * 2 = 6\n",
            "5 * 3 = 15     4.0 * 3 = 12.0     3 * 3 = 9\n",
            "5 * 4 = 20     4.0 * 4 = 16.0     3 * 4 = 12\n",
            "5 * 5 = 25     4.0 * 5 = 20.0     3 * 5 = 15\n",
            "5 * 6 = 30     4.0 * 6 = 24.0     3 * 6 = 18\n",
            "5 * 7 = 35     4.0 * 7 = 28.0     3 * 7 = 21\n",
            "5 * 8 = 40     4.0 * 8 = 32.0     3 * 8 = 24\n",
            "5 * 9 = 45     4.0 * 9 = 36.0     3 * 9 = 27\n"
          ]
        }
      ]
    },
    {
      "cell_type": "code",
      "metadata": {
        "id": "oa_BC9ZlHD3h",
        "colab": {
          "base_uri": "https://localhost:8080/"
        },
        "outputId": "575d7ac2-8a93-4c9b-df77-2e9adb29c7ff"
      },
      "source": [
        "#3rd question Solved\n",
        "stnum = int(input(\"What is your row?: \"))\n",
        "ndnum = int(input(\"What is your column?: \"))\n",
        "for x in range (1, stnum+1):\n",
        "  for y in range (1, ndnum+1):\n",
        "    \n",
        "    print (x * y, end = \" \")\n",
        "  print()"
      ],
      "execution_count": null,
      "outputs": [
        {
          "output_type": "stream",
          "name": "stdout",
          "text": [
            "What is your row?: 3\n",
            "What is your column?: 4\n",
            "1 2 3 4 \n",
            "2 4 6 8 \n",
            "3 6 9 12 \n"
          ]
        }
      ]
    },
    {
      "cell_type": "code",
      "metadata": {
        "id": "XYkrjSypor6I",
        "colab": {
          "base_uri": "https://localhost:8080/"
        },
        "outputId": "acb25ee1-8709-42ba-a41a-335ebdd6caa3"
      },
      "source": [
        "#4th question Solved\n",
        "n = int(input(\"What is your number?: \"))\n",
        "for y in range (n):\n",
        "  for x in range (n):\n",
        "    if x <= y:\n",
        "      print ('*',end=\"\") \n",
        "  print()"
      ],
      "execution_count": 17,
      "outputs": [
        {
          "output_type": "stream",
          "name": "stdout",
          "text": [
            "What is your number?: 5\n",
            "*\n",
            "**\n",
            "***\n",
            "****\n",
            "*****\n"
          ]
        }
      ]
    },
    {
      "cell_type": "code",
      "metadata": {
        "colab": {
          "base_uri": "https://localhost:8080/"
        },
        "id": "Zqe6Bvm7EV2D",
        "outputId": "d94b74bd-ec1b-4e45-cdaa-91c77fbc5bc1"
      },
      "source": [
        "#5th question Solved\n",
        "n = int(input(\"What is your number?: \"))\n",
        "for y in range(n):\n",
        "    for x in range(y):\n",
        "        print(\" \", end=\"\")\n",
        "    for x in range(y*2, n*2-1):\n",
        "        print(\"*\", end=\"\")\n",
        "    print()"
      ],
      "execution_count": 205,
      "outputs": [
        {
          "output_type": "stream",
          "name": "stdout",
          "text": [
            "What is your number?: 3\n",
            "*****\n",
            " ***\n",
            "  *\n"
          ]
        }
      ]
    },
    {
      "cell_type": "code",
      "metadata": {
        "colab": {
          "base_uri": "https://localhost:8080/"
        },
        "id": "jO4k8ay_I1sf",
        "outputId": "2b84c159-91f1-4c30-8b69-f1d27e578dd6"
      },
      "source": [
        "#6th question Solved\n",
        "x = 1\n",
        "num = int(input(\"What is your number: \"))\n",
        "ten = [10,20,30,40,50,60,70,80,90,100]\n",
        "if num <= 100:\n",
        "  for num in range (num, 100, num*x):\n",
        "    #10의 배수는 리스트로 풀어보자!\n",
        "    if num in ten:\n",
        "      print(num)\n",
        "      break\n",
        "    else: \n",
        "      x = x + 1\n",
        "      print(num)\n",
        "      \n",
        "else:\n",
        "  print(\"Sorry please use number lower than 100\")"
      ],
      "execution_count": null,
      "outputs": [
        {
          "output_type": "stream",
          "name": "stdout",
          "text": [
            "What is your number: 3\n",
            "3\n",
            "6\n",
            "9\n",
            "12\n",
            "15\n",
            "18\n",
            "21\n",
            "24\n",
            "27\n",
            "30\n"
          ]
        }
      ]
    },
    {
      "cell_type": "code",
      "metadata": {
        "colab": {
          "base_uri": "https://localhost:8080/"
        },
        "id": "re155Bx8NYUg",
        "outputId": "8b8a100b-339a-460d-8f77-8c671a89c591"
      },
      "source": [
        "#7th Question\n",
        "#답을 모르겠습니다\n",
        "n = int(input(\"What is your number?: \"))\n",
        "m = 1\n",
        "for y in range (n):\n",
        "  for x in range(n):\n",
        "    if y >= x:\n",
        "      print (m, end =' ')\n",
        "      m = m + 1\n",
        "    else :\n",
        "      print(end='')\n",
        "  print()\n",
        "  "
      ],
      "execution_count": 26,
      "outputs": [
        {
          "output_type": "stream",
          "name": "stdout",
          "text": [
            "What is your number?: 3\n",
            "1 \n",
            "2 3 \n",
            "4 5 6 \n"
          ]
        }
      ]
    },
    {
      "cell_type": "code",
      "metadata": {
        "colab": {
          "base_uri": "https://localhost:8080/"
        },
        "id": "pw9ICaebTbn7",
        "outputId": "161dc402-c066-4127-cf96-a3769e89fa71"
      },
      "source": [
        "#8th question\n",
        "n = int(input(\"What is your number?\"))\n",
        "m = 1\n",
        "\n",
        "for y in range(n) : \n",
        "  for x in range(n) :\n",
        "    if y <= x :\n",
        "      print(m, end=' ')\n",
        "      m = m + 1\n",
        "    else :\n",
        "      print(' ', end= ' ')\n",
        "  print()"
      ],
      "execution_count": 18,
      "outputs": [
        {
          "output_type": "stream",
          "name": "stdout",
          "text": [
            "What is your number?3\n",
            "1 2 3 \n",
            "  4 5 \n",
            "    6 \n"
          ]
        }
      ]
    },
    {
      "cell_type": "code",
      "metadata": {
        "id": "Ggw5NNiATcZy",
        "colab": {
          "base_uri": "https://localhost:8080/"
        },
        "outputId": "4eb2d283-30dd-49b9-d9c5-cbfd2f83cd44"
      },
      "source": [
        "#Question 9\n",
        "n = int(input('What is your number?:'))\n",
        "m = 1\n",
        "for x in range (n):\n",
        "  for y in range(n):\n",
        "    print(m,end='')\n",
        "    m = (m + 2) % 10\n",
        "  print('')"
      ],
      "execution_count": 20,
      "outputs": [
        {
          "output_type": "stream",
          "name": "stdout",
          "text": [
            "What is your number?:3\n",
            "135\n",
            "791\n",
            "357\n"
          ]
        }
      ]
    }
  ]
}