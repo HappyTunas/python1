{
  "nbformat": 4,
  "nbformat_minor": 0,
  "metadata": {
    "colab": {
      "name": "assignment1.ipynb",
      "provenance": [],
      "authorship_tag": "ABX9TyOvabiqbkVNvFfPE04j7bln",
      "include_colab_link": true
    },
    "kernelspec": {
      "name": "python3",
      "display_name": "Python 3"
    },
    "language_info": {
      "name": "python"
    }
  },
  "cells": [
    {
      "cell_type": "markdown",
      "metadata": {
        "id": "view-in-github",
        "colab_type": "text"
      },
      "source": [
        "<a href=\"https://colab.research.google.com/github/HappyTunas/python1/blob/main/assignment1.ipynb\" target=\"_parent\"><img src=\"https://colab.research.google.com/assets/colab-badge.svg\" alt=\"Open In Colab\"/></a>"
      ]
    },
    {
      "cell_type": "code",
      "metadata": {
        "colab": {
          "base_uri": "https://localhost:8080/"
        },
        "id": "e6CSKY2Fa9Tx",
        "outputId": "ccf60158-a60f-486b-dcc3-7c4e15c0e6af"
      },
      "source": [
        "#Question 1 - 1 \n",
        "print(\"kor 90\")\n",
        "print (\"mat 80\")\n",
        "print (\"eng 100\")\n",
        "print (\"sum 270\")\n",
        "print(\"avg 90\")"
      ],
      "execution_count": null,
      "outputs": [
        {
          "output_type": "stream",
          "name": "stdout",
          "text": [
            "kor 90\n",
            "mat 80\n",
            "eng 100\n",
            "sum 270\n",
            "avg 90\n"
          ]
        }
      ]
    },
    {
      "cell_type": "code",
      "metadata": {
        "colab": {
          "base_uri": "https://localhost:8080/"
        },
        "id": "awRJ-BbnbTBr",
        "outputId": "88f935da-9cda-4918-c354-780d7cfac94b"
      },
      "source": [
        "#Question 1 - 2\n",
        "print(\"TTTTTTTTTT\")\n",
        "print(\"TTTTTTTTTT\")\n",
        "print(\"    \"\"TT\"\"     \")\n",
        "print(\"    \"\"TT\"\"     \")\n",
        "print(\"    \"\"TT\"\"     \")"
      ],
      "execution_count": null,
      "outputs": [
        {
          "output_type": "stream",
          "name": "stdout",
          "text": [
            "TTTTTTTTTT\n",
            "TTTTTTTTTT\n",
            "    TT     \n",
            "    TT     \n",
            "    TT     \n"
          ]
        }
      ]
    },
    {
      "cell_type": "code",
      "metadata": {
        "colab": {
          "base_uri": "https://localhost:8080/"
        },
        "id": "ZyeOn9hybtjq",
        "outputId": "e3e10ca5-d804-4571-f700-00f5fd71d966"
      },
      "source": [
        "#Question 1 - 3\n",
        "x = int(input(\"What is your first number? :\"))\n",
        "y = int(input(\"What is your second number? :\"))\n",
        "z = x+y\n",
        "print(z)"
      ],
      "execution_count": null,
      "outputs": [
        {
          "output_type": "stream",
          "name": "stdout",
          "text": [
            "What is your first number? :1\n",
            "What is your second number? :2\n",
            "3\n"
          ]
        }
      ]
    },
    {
      "cell_type": "code",
      "metadata": {
        "id": "Grcfp2BCcTEB",
        "colab": {
          "base_uri": "https://localhost:8080/"
        },
        "outputId": "46130b1b-8d12-4963-9153-4468bd937a91"
      },
      "source": [
        "#Question 1 - 4\n",
        "a = int(input(\"What is your first number? :\"))\n",
        "b = int(input(\"What is your second number? :\"))\n",
        "c = int(input(\"What is your third number? :\"))\n",
        "z = a+b+c\n",
        "x = z//3\n",
        "print(\"sum =\",z)\n",
        "print (\"avg :=\",x)\n"
      ],
      "execution_count": 4,
      "outputs": [
        {
          "output_type": "stream",
          "name": "stdout",
          "text": [
            "What is your first number? :20\n",
            "What is your second number? :50\n",
            "What is your third number? :100\n",
            "sum = 170\n",
            "avg := 56\n"
          ]
        }
      ]
    },
    {
      "cell_type": "code",
      "metadata": {
        "colab": {
          "base_uri": "https://localhost:8080/"
        },
        "id": "llCNz0oQc1kp",
        "outputId": "8dd39416-4ce4-4ab9-9806-261333e326a0"
      },
      "source": [
        "#Question 1 - 5\n",
        "x = float(input(\"yard? :\"))\n",
        "double = x * 91.44\n",
        "doublea = round(double , 1)\n",
        "print(doublea,\"cm\")"
      ],
      "execution_count": 9,
      "outputs": [
        {
          "output_type": "stream",
          "name": "stdout",
          "text": [
            "yard? :10.1\n",
            "923.5 cm\n"
          ]
        }
      ]
    },
    {
      "cell_type": "code",
      "metadata": {
        "colab": {
          "base_uri": "https://localhost:8080/"
        },
        "id": "4srQbdcBdmC5",
        "outputId": "d9beaff0-1096-4acb-fbd0-406724dee01f"
      },
      "source": [
        "#Question 2 - 1\n",
        "x = int(input(\"What is your first number? :\"))\n",
        "y = int(input(\"What is your second number? :\"))\n",
        "print(x > y)\n",
        "print(x < y)\n",
        "print(x >= y)\n",
        "print(x <= y)"
      ],
      "execution_count": 1,
      "outputs": [
        {
          "output_type": "stream",
          "name": "stdout",
          "text": [
            "What is your first number? :4\n",
            "What is your second number? :5\n",
            "False\n",
            "True\n",
            "False\n",
            "True\n"
          ]
        }
      ]
    },
    {
      "cell_type": "code",
      "metadata": {
        "colab": {
          "base_uri": "https://localhost:8080/"
        },
        "id": "YauyMkn0ff7w",
        "outputId": "9253e4ea-1db0-4617-acce-076d4bc73be1"
      },
      "source": [
        "#Question 2 - 2\n",
        "x = int(input(\"What is your first number? :\"))\n",
        "y = int(input(\"What is your second number? :\"))\n",
        "z = int(input(\"What is your third number? :\"))\n",
        "if x > y and z:\n",
        "  print(\"1\")\n",
        "else :  \n",
        "    print(\"0\")"
      ],
      "execution_count": null,
      "outputs": [
        {
          "output_type": "stream",
          "name": "stdout",
          "text": [
            "What is your first number? :9\n",
            "What is your second number? :10\n",
            "What is your third number? :10\n",
            "0\n"
          ]
        }
      ]
    },
    {
      "cell_type": "code",
      "metadata": {
        "colab": {
          "base_uri": "https://localhost:8080/"
        },
        "id": "06yQYR-ugr8m",
        "outputId": "ac467769-66d1-4dad-f3c7-d5ce8e4d0063"
      },
      "source": [
        "#Question 2 - 3\n",
        "x = int(input(\"What is your first number? :\"))\n",
        "y = int(input(\"What is your second number? :\"))\n",
        "x = (x+1)\n",
        "y = (y-1)\n",
        "z = (x*y)\n",
        "print(x)\n",
        "print(y)\n",
        "print(z)"
      ],
      "execution_count": null,
      "outputs": [
        {
          "output_type": "stream",
          "name": "stdout",
          "text": [
            "What is your first number? :10\n",
            "What is your second number? :20\n",
            "11\n",
            "19\n",
            "209\n"
          ]
        }
      ]
    },
    {
      "cell_type": "code",
      "metadata": {
        "colab": {
          "base_uri": "https://localhost:8080/"
        },
        "id": "Mjivf1W_ihvu",
        "outputId": "535f87fc-8bd9-41fc-82e4-07493150d25c"
      },
      "source": [
        "#Question 2 - 4\n",
        "x = int(input(\"What is Minsoo's height? :\"))\n",
        "y = int(input(\"What is Minsoo's weight :\"))\n",
        "a = int(input(\"What is Kiyeong's height? :\"))\n",
        "b = int(input(\"What is Kiyeong's weight? :\"))\n",
        "if x > a and y > b:\n",
        "  print(\"1\")\n",
        "else:\n",
        "  print (\"0\")"
      ],
      "execution_count": 5,
      "outputs": [
        {
          "output_type": "stream",
          "name": "stdout",
          "text": [
            "What is Minsoo's height? :150\n",
            "What is Minsoo's weight :35\n",
            "What is Kiyeong's height? :145\n",
            "What is Kiyeong's weight? :35\n",
            "0\n"
          ]
        }
      ]
    },
    {
      "cell_type": "code",
      "metadata": {
        "id": "wcGX2BTajbG_"
      },
      "source": [
        ""
      ],
      "execution_count": null,
      "outputs": []
    }
  ]
}