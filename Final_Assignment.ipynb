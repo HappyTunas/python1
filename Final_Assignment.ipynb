{
  "nbformat": 4,
  "nbformat_minor": 0,
  "metadata": {
    "colab": {
      "name": "Final Assignment.ipynb",
      "provenance": [],
      "authorship_tag": "ABX9TyPAUKooPuYGxzT6LcTqmvM6",
      "include_colab_link": true
    },
    "kernelspec": {
      "name": "python3",
      "display_name": "Python 3"
    },
    "language_info": {
      "name": "python"
    }
  },
  "cells": [
    {
      "cell_type": "markdown",
      "metadata": {
        "id": "view-in-github",
        "colab_type": "text"
      },
      "source": [
        "<a href=\"https://colab.research.google.com/github/HappyTunas/python1/blob/main/Final_Assignment.ipynb\" target=\"_parent\"><img src=\"https://colab.research.google.com/assets/colab-badge.svg\" alt=\"Open In Colab\"/></a>"
      ]
    },
    {
      "cell_type": "code",
      "execution_count": null,
      "metadata": {
        "colab": {
          "base_uri": "https://localhost:8080/"
        },
        "id": "s7iW0XC7F-QX",
        "outputId": "76f1c8d5-e914-4a64-cee3-06f9dfce7639"
      },
      "outputs": [
        {
          "output_type": "stream",
          "name": "stdout",
          "text": [
            "계좌정보 441-0290-1203 계좌정보 441-0290-1203\n",
            "현재잔액 500000 원 현재잔액 520000 원\n",
            "이자 37960.0\n",
            "\n"
          ]
        }
      ],
      "source": [
        "##과제 1\n",
        "class Account:\n",
        "  def __init__(self, account = '441-0290-1203', balance = 500000, interestRate = 0.073):\n",
        "    self.account = account\n",
        "    self.balance = balance\n",
        "    self.interestRate = interestRate\n",
        "\n",
        "  def setAccount(self, account):\n",
        "    self.account = account\n",
        "\n",
        "  def getAccount(self):\n",
        "    return self.account\n",
        "\n",
        "  def getBalance(self):\n",
        "    return self.balance\n",
        "\n",
        "  def calcCulateInterest(self):\n",
        "    self.interest = self.balance * self.interestRate\n",
        "    return self.interest\n",
        "\n",
        "  def deposit(self,x, balance = 500000):\n",
        "    y = balance + x\n",
        "    self.balance = y\n",
        "    return self.balance\n",
        "\n",
        "  def withdraw(self,x=0, balance = 500000):\n",
        "    y = balance - x\n",
        "    self.balance = y\n",
        "    return self.balance\n",
        "\n",
        "a = Account()\n",
        "print('계좌정보', a.getAccount(), '계좌정보', a.getAccount())\n",
        "print('현재잔액', a.getBalance(),'원', '현재잔액', a.deposit(20000),'원')\n",
        "print('이자', a.calcCulateInterest())\n",
        "print()  "
      ]
    },
    {
      "cell_type": "code",
      "source": [
        "##과제 2\n",
        "bookList = ['SQL Plus','Java 2.0.','JSP Servlet']\n",
        "priceList = [50000, 40000, 60000]\n",
        "\n",
        "class Book:\n",
        "\n",
        "  def __init__ (self,bookName = None, bookPrice = tp, bookDiscountRate = dp):\n",
        "    self.__bookName = bookName\n",
        "    self.__bookPrice = bookPrice\n",
        "    self.__bookDiscountRate = bookDiscountRate\n",
        "  \n",
        "  def setBookPrice (self, bookPrice):\n",
        "    self.__bookPrice = bookPrice\n",
        "     \n",
        "  def getBookPrice (self):\n",
        "    return self.__bookPrice\n",
        "\n",
        "  def getBookDiscountRate(self):\n",
        "    return self.__bookDiscountRate\n",
        "\n",
        "tp = 0\n",
        "dp = 0\n",
        "\n",
        "for x in bookList:\n",
        "  if x == 'SQL Plus':\n",
        "    tp = tp + priceList[0]\n",
        "  elif x == 'Java 2.0.':\n",
        "    tp = tp + priceList[1]\n",
        "  elif x == 'JSP Servlet':\n",
        "    tp = tp + priceList[2]\n",
        "    \n",
        "\n",
        "\n",
        "\n",
        "for x in bookList:\n",
        "  if x == 'SQL Plus':\n",
        "    z = priceList[0] * 0.05\n",
        "    y = priceList[0] - z\n",
        "    dp = dp + y\n",
        "  elif x == 'Java 2.0.':\n",
        "    z = priceList[1] * 0.03\n",
        "    y = priceList[1] - z\n",
        "    dp = dp + y\n",
        "  elif x == 'JSP Servlet':\n",
        "    z = priceList[2] * 0.06\n",
        "    y = priceList[2] - z\n",
        "    dp = dp + y\n",
        "\n",
        "\n",
        "\n",
        "for x in bookList:\n",
        "  if x == 'SQL Plus':\n",
        "    print (x, priceList[0], '5%')\n",
        "  elif x == 'Java 2.0.':\n",
        "    print (x, priceList[1], '3%')\n",
        "  elif x == 'JSP Servlet':\n",
        "    print (x, priceList[2], '6%')\n",
        "\n",
        " \n",
        "b = Book()\n",
        "print('책 가격의 합', b.getBookPrice(),'원')\n",
        "print('할인된 책 가격의 합',b.getBookDiscountRate(),'원')"
      ],
      "metadata": {
        "colab": {
          "base_uri": "https://localhost:8080/"
        },
        "id": "u2-5ra8hHMiA",
        "outputId": "c24560cb-4ac5-475e-ebd9-db4b1abc91f6"
      },
      "execution_count": null,
      "outputs": [
        {
          "output_type": "stream",
          "name": "stdout",
          "text": [
            "SQL Plus 50000 5%\n",
            "Java 2.0. 40000 3%\n",
            "JSP Servlet 60000 6%\n",
            "책 가격의 합 150000 원\n",
            "할인된 책 가격의 합 142700.0 원\n"
          ]
        }
      ]
    }
  ]
}