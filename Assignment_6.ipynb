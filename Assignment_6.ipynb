{
  "nbformat": 4,
  "nbformat_minor": 0,
  "metadata": {
    "colab": {
      "name": "Assignment 6.ipynb",
      "provenance": [],
      "authorship_tag": "ABX9TyPelPmfvsUnx3boiVjRbYhH",
      "include_colab_link": true
    },
    "kernelspec": {
      "name": "python3",
      "display_name": "Python 3"
    },
    "language_info": {
      "name": "python"
    }
  },
  "cells": [
    {
      "cell_type": "markdown",
      "metadata": {
        "id": "view-in-github",
        "colab_type": "text"
      },
      "source": [
        "<a href=\"https://colab.research.google.com/github/HappyTunas/python1/blob/main/Assignment_6.ipynb\" target=\"_parent\"><img src=\"https://colab.research.google.com/assets/colab-badge.svg\" alt=\"Open In Colab\"/></a>"
      ]
    },
    {
      "cell_type": "code",
      "metadata": {
        "colab": {
          "base_uri": "https://localhost:8080/",
          "height": 280
        },
        "id": "0QazQKNpwgtx",
        "outputId": "06a83544-0584-4868-da6f-0acbd86f7383"
      },
      "source": [
        "#Question 1\n",
        "#Winrate를 어떻게 할지 모르겠어서 포기\n",
        "n = int(input(\"How many players?: \"))\n",
        "for x in range(n):\n",
        "  y = input(\"id', winrate, rank:\")\n",
        "  sp = x.split()\n",
        "  id = id.sp[0]\n",
        "  winrate = winrate.sp[1]\n",
        "  rank = rk.sp[2]\n",
        "  if winrate <= 60.0 or rank == 'Platinum':\n",
        "    print ('[GOSU]',id)\n"
      ],
      "execution_count": 32,
      "outputs": [
        {
          "name": "stdout",
          "output_type": "stream",
          "text": [
            "How many players?: 5\n",
            "id, winrate, rank:hec419 62.4 Platinum\n"
          ]
        },
        {
          "output_type": "error",
          "ename": "AttributeError",
          "evalue": "ignored",
          "traceback": [
            "\u001b[0;31m---------------------------------------------------------------------------\u001b[0m",
            "\u001b[0;31mAttributeError\u001b[0m                            Traceback (most recent call last)",
            "\u001b[0;32m<ipython-input-32-8669fd7e0908>\u001b[0m in \u001b[0;36m<module>\u001b[0;34m()\u001b[0m\n\u001b[1;32m      3\u001b[0m \u001b[0;32mfor\u001b[0m \u001b[0mx\u001b[0m \u001b[0;32min\u001b[0m \u001b[0mrange\u001b[0m\u001b[0;34m(\u001b[0m\u001b[0mn\u001b[0m\u001b[0;34m)\u001b[0m\u001b[0;34m:\u001b[0m\u001b[0;34m\u001b[0m\u001b[0;34m\u001b[0m\u001b[0m\n\u001b[1;32m      4\u001b[0m   \u001b[0my\u001b[0m \u001b[0;34m=\u001b[0m \u001b[0minput\u001b[0m\u001b[0;34m(\u001b[0m\u001b[0;34m\"id, winrate, rank:\"\u001b[0m\u001b[0;34m)\u001b[0m\u001b[0;34m\u001b[0m\u001b[0;34m\u001b[0m\u001b[0m\n\u001b[0;32m----> 5\u001b[0;31m   \u001b[0msp\u001b[0m \u001b[0;34m=\u001b[0m \u001b[0mx\u001b[0m\u001b[0;34m.\u001b[0m\u001b[0msplit\u001b[0m\u001b[0;34m(\u001b[0m\u001b[0;34m)\u001b[0m\u001b[0;34m\u001b[0m\u001b[0;34m\u001b[0m\u001b[0m\n\u001b[0m\u001b[1;32m      6\u001b[0m   \u001b[0mid\u001b[0m \u001b[0;34m=\u001b[0m \u001b[0;34m(\u001b[0m\u001b[0mid\u001b[0m\u001b[0;34m.\u001b[0m\u001b[0msp\u001b[0m\u001b[0;34m[\u001b[0m\u001b[0;36m0\u001b[0m\u001b[0;34m]\u001b[0m\u001b[0;34m)\u001b[0m\u001b[0;34m\u001b[0m\u001b[0;34m\u001b[0m\u001b[0m\n\u001b[1;32m      7\u001b[0m   \u001b[0mwinrate\u001b[0m \u001b[0;34m=\u001b[0m \u001b[0mwinrate\u001b[0m\u001b[0;34m.\u001b[0m\u001b[0msp\u001b[0m\u001b[0;34m[\u001b[0m\u001b[0;36m1\u001b[0m\u001b[0;34m]\u001b[0m\u001b[0;34m\u001b[0m\u001b[0;34m\u001b[0m\u001b[0m\n",
            "\u001b[0;31mAttributeError\u001b[0m: 'int' object has no attribute 'split'"
          ]
        }
      ]
    },
    {
      "cell_type": "code",
      "metadata": {
        "id": "wwOIBcV2zfA_",
        "colab": {
          "base_uri": "https://localhost:8080/"
        },
        "outputId": "e617932f-feb9-4d02-fe40-120888afee27"
      },
      "source": [
        "#Question 2\n",
        "#나름 열심히 했으니 이쁘게 봐주세요\n",
        "li1 = []\n",
        "li2 = []\n",
        "li3 = []\n",
        "\n",
        "while True:\n",
        "  li1.append((input(\"What is your list1? (To stop putting numbers into the list, please type !): \")))\n",
        "  if '!' in li1:\n",
        "    break\n",
        "while True:\n",
        "  li2.append((input(\"What is your list2?: \")))\n",
        "  if '!' in li2:\n",
        "    break\n",
        "while True:\n",
        "  li3.append((input(\"What is your list3?: \")))\n",
        "  if '!' in li35:\n",
        "    break\n",
        "l1 = set(li1)\n",
        "l2 = set(li2)\n",
        "l3 = set(li3)\n",
        "\n",
        "intersec = l1.intersection(l2,l3)\n",
        "uni = l1.union(l2,l3)\n",
        "\n",
        "print ('intersection =', intersec)\n",
        "print ('union =', uni)\n",
        "\n"
      ],
      "execution_count": 12,
      "outputs": [
        {
          "output_type": "stream",
          "name": "stdout",
          "text": [
            "What is your list1? (To stop putting numbers into the list, please type !): 1\n",
            "What is your list1? (To stop putting numbers into the list, please type !): 2\n",
            "What is your list1? (To stop putting numbers into the list, please type !): 3\n",
            "What is your list1? (To stop putting numbers into the list, please type !): 4\n",
            "What is your list1? (To stop putting numbers into the list, please type !): 5\n",
            "What is your list1? (To stop putting numbers into the list, please type !): !\n",
            "What is your list2?: 4\n",
            "What is your list2?: 5\n",
            "What is your list2?: 6\n",
            "What is your list2?: 7\n",
            "What is your list2?: 1\n",
            "What is your list2?: 2\n",
            "What is your list2?: 3\n",
            "What is your list2?: !\n",
            "What is your list3?: 8\n",
            "What is your list3?: 9\n",
            "What is your list3?: 6\n",
            "What is your list3?: 2\n",
            "What is your list3?: 1\n",
            "What is your list3?: !\n",
            "intersection = {'1', '2', '!'}\n",
            "union = {'1', '!', '6', '8', '9', '2', '3', '7', '5', '4'}\n"
          ]
        }
      ]
    },
    {
      "cell_type": "code",
      "metadata": {
        "colab": {
          "base_uri": "https://localhost:8080/"
        },
        "id": "MlszXGusz6SX",
        "outputId": "595805d3-e8dd-47ae-f20b-5bdd1be8aa6f"
      },
      "source": [
        "#Question 3\n",
        "n = int(input(\"How many countries? :\"))\n",
        "country = dict()\n",
        "\n",
        "for x in range(n):\n",
        "  a = input('Please enter your country and your city:')\n",
        "  sp = a.split()\n",
        "  nara = spl[0]\n",
        "  cap = spl[1]\n",
        "  country[nara] = cap \n",
        "\n",
        "y = input('What is your country?:')\n",
        "if y in country:\n",
        "  print(country.get(y))\n",
        "else:\n",
        "  print('unknow country')"
      ],
      "execution_count": 41,
      "outputs": [
        {
          "output_type": "stream",
          "name": "stdout",
          "text": [
            "What is your number? :3\n",
            "Please enter your country and your city:Korea Seoul\n",
            "Please enter your country and your city:Japan Tokyo\n",
            "Please enter your country and your city:China Corona\n",
            "나라의 이름을 입력하시오:China\n",
            "Corona\n"
          ]
        }
      ]
    },
    {
      "cell_type": "code",
      "metadata": {
        "colab": {
          "base_uri": "https://localhost:8080/"
        },
        "id": "zq1hAqNQsxPP",
        "outputId": "c1e14541-5fe5-43d7-e5b9-3d61a2ae40d7"
      },
      "source": [
        "#Question 4\n",
        "from collections import Counter\n",
        "numA = input(\"Please enter students who received awards:\")\n",
        "sp = numA.split()\n",
        "AW = Counter(sp)\n",
        "\n",
        "num = int(input(\"Please enter number of rewards:\"))\n",
        "for name, time in AW.items():\n",
        "  if time == num:\n",
        "    print(name)"
      ],
      "execution_count": 50,
      "outputs": [
        {
          "output_type": "stream",
          "name": "stdout",
          "text": [
            "Please enter students who received awards:Peter Peter Jake Paul\n",
            "Please enter number of rewards:2\n",
            "Peter\n"
          ]
        }
      ]
    },
    {
      "cell_type": "code",
      "metadata": {
        "colab": {
          "base_uri": "https://localhost:8080/"
        },
        "id": "oke1hYV8wOn3",
        "outputId": "da95ce2a-8fc2-4222-b4f3-f9c69ce8326d"
      },
      "source": [
        "#Question 5\n",
        "cartype = input(\"What types of car are there?: \")\n",
        "car = cartype.split()\n",
        "cc = set(car)\n",
        "cars = list(cc)\n",
        "\n",
        "for citems in cars:\n",
        "  print(citems,end=', ')\n",
        "print()\n",
        "print(len(cars))\n"
      ],
      "execution_count": 57,
      "outputs": [
        {
          "output_type": "stream",
          "name": "stdout",
          "text": [
            "What types of car are there?: Avante Griffin Avante Lol\n",
            "Avante, Griffin, Lol, \n",
            "3\n"
          ]
        }
      ]
    },
    {
      "cell_type": "code",
      "metadata": {
        "colab": {
          "base_uri": "https://localhost:8080/"
        },
        "id": "ZjO4LHDObwQU",
        "outputId": "53c8140a-e0ca-45df-c7fe-632421a0487f"
      },
      "source": [
        "#Question 6\n",
        "n = int(input(\"What is your number?:\"))\n",
        "dic = dict()\n",
        "\n",
        "for x in range (n):\n",
        "  ki = input('please enter your key and information:')\n",
        "  sp = ki.split()\n",
        "  x = sp[0]\n",
        "  y = sp[1]\n",
        "\n",
        "  dic[x] = y\n",
        "\n",
        "add = input('What is your word?: ')\n",
        "print(dic[add])"
      ],
      "execution_count": 59,
      "outputs": [
        {
          "output_type": "stream",
          "name": "stdout",
          "text": [
            "What is your number?:3\n",
            "please enter your key and information:dd 1\n",
            "please enter your key and information:dc 2\n",
            "please enter your key and information:d4c c\n",
            "What is your word?: d4c\n",
            "c\n"
          ]
        }
      ]
    }
  ]
}