{
  "nbformat": 4,
  "nbformat_minor": 0,
  "metadata": {
    "colab": {
      "name": "Assignment 4.ipynb",
      "provenance": [],
      "authorship_tag": "ABX9TyOY+chNRPkUbczMEycL9oUw",
      "include_colab_link": true
    },
    "kernelspec": {
      "name": "python3",
      "display_name": "Python 3"
    },
    "language_info": {
      "name": "python"
    }
  },
  "cells": [
    {
      "cell_type": "markdown",
      "metadata": {
        "id": "view-in-github",
        "colab_type": "text"
      },
      "source": [
        "<a href=\"https://colab.research.google.com/github/HappyTunas/python1/blob/main/Assignment_4.ipynb\" target=\"_parent\"><img src=\"https://colab.research.google.com/assets/colab-badge.svg\" alt=\"Open In Colab\"/></a>"
      ]
    },
    {
      "cell_type": "code",
      "metadata": {
        "colab": {
          "base_uri": "https://localhost:8080/"
        },
        "id": "HKxcUsGL6DF-",
        "outputId": "2bdb4d98-e272-4413-c837-6b56f0efe043"
      },
      "source": [
        "sum = 0\n",
        "x = 0\n",
        "y = int(input(\"What is your number?: \"))\n",
        "if y <= 100:\n",
        "  while x <= y:\n",
        "    sum = sum + x\n",
        "    x = x + 1\n",
        "  print (sum)\n",
        "else:\n",
        "  print (\"Please enter number lower than 0\")"
      ],
      "execution_count": null,
      "outputs": [
        {
          "output_type": "stream",
          "name": "stdout",
          "text": [
            "What is your number?: 10\n",
            "55\n"
          ]
        }
      ]
    },
    {
      "cell_type": "code",
      "metadata": {
        "colab": {
          "base_uri": "https://localhost:8080/"
        },
        "id": "mrnEubQrU0Gm",
        "outputId": "f63a6431-1402-41fe-f82c-898c91415239"
      },
      "source": [
        "x = int(input(\"Please enter your number: \"))\n",
        "if x <= 100:\n",
        "    for y in range (x+1,101):\n",
        "      x = x + y\n",
        "    print (x)"
      ],
      "execution_count": null,
      "outputs": [
        {
          "output_type": "stream",
          "name": "stdout",
          "text": [
            "Please enter your number: 95\n",
            "585\n"
          ]
        }
      ]
    },
    {
      "cell_type": "code",
      "metadata": {
        "colab": {
          "base_uri": "https://localhost:8080/"
        },
        "id": "AVav0vuWXqmu",
        "outputId": "738da172-6ab6-41ee-a5c9-f85d813fa6c7"
      },
      "source": [
        "x = int(input(\"Please enter your number: \"))\n",
        "for y in range(1,11):\n",
        "  z = x * y\n",
        "  print (z)"
      ],
      "execution_count": null,
      "outputs": [
        {
          "output_type": "stream",
          "name": "stdout",
          "text": [
            "Please enter your number: 5\n",
            "5\n",
            "10\n",
            "15\n",
            "20\n",
            "25\n",
            "30\n",
            "35\n",
            "40\n",
            "45\n",
            "50\n"
          ]
        }
      ]
    },
    {
      "cell_type": "code",
      "metadata": {
        "colab": {
          "base_uri": "https://localhost:8080/"
        },
        "id": "6X4CDE1wYGjd",
        "outputId": "1690e16a-2f55-4dd8-81c7-81ea68000b86"
      },
      "source": [
        "#교수님 문제가 중복되었습니다\n",
        "sum = 0\n",
        "x = 0\n",
        "y = int(input(\"Please enter your number: \"))\n",
        "if y <= 100:\n",
        "  while x <= y:\n",
        "    sum = sum + x\n",
        "    x = x + 1\n",
        "  print(sum)\n",
        "else :\n",
        "  print(\"Please enter number lower than 100\")"
      ],
      "execution_count": null,
      "outputs": [
        {
          "output_type": "stream",
          "name": "stdout",
          "text": [
            "Please enter your number: 101\n",
            "Please enter number lower than 100\n"
          ]
        }
      ]
    },
    {
      "cell_type": "code",
      "metadata": {
        "colab": {
          "base_uri": "https://localhost:8080/"
        },
        "id": "tLPJV3wSaLXf",
        "outputId": "02633bbf-0dd7-4b8b-ff97-c581e4fe12ef"
      },
      "source": [
        "sum = 0\n",
        "while True:\n",
        "  x = int(input(\"Please enter your number: \"))\n",
        "  if x != 0:\n",
        "    if x % 3 == 0 or x % 5 == 0:\n",
        "      sum = sum + 1\n",
        "  elif x == 0 :\n",
        "    print (\"Amount of numbers: \", sum)\n",
        "    break"
      ],
      "execution_count": null,
      "outputs": [
        {
          "output_type": "stream",
          "name": "stdout",
          "text": [
            "Please enter your number: 3\n",
            "Please enter your number: 5\n",
            "Please enter your number: 6\n",
            "Please enter your number: 10\n",
            "Please enter your number: 0\n",
            "Amount of numbers:  4\n"
          ]
        }
      ]
    },
    {
      "cell_type": "code",
      "metadata": {
        "colab": {
          "base_uri": "https://localhost:8080/"
        },
        "id": "20AORyd8f90C",
        "outputId": "5c676718-2d29-441a-efb6-0493a3442568"
      },
      "source": [
        "while True:\n",
        "  base = float(input(\"Please enter your base: \"))\n",
        "  height = float(input(\"Please enter your height: \"))\n",
        "  Tw = base * height / 2\n",
        "  print (\"Triange Width : \",Tw)\n",
        "  x = input(\"Continue? \")\n",
        "  if x == 'y' or x == 'Y':\n",
        "    continue\n",
        "  else:\n",
        "    break\n",
        "    "
      ],
      "execution_count": null,
      "outputs": [
        {
          "name": "stdout",
          "output_type": "stream",
          "text": [
            "Please enter your base: 5\n",
            "Please enter your height: 11\n",
            "Triange Width :  27.5\n",
            "Continue? y\n",
            "Please enter your base: 10\n",
            "Please enter your height: 10\n",
            "Triange Width :  50.0\n",
            "Continue? n\n"
          ]
        }
      ]
    },
    {
      "cell_type": "code",
      "metadata": {
        "colab": {
          "base_uri": "https://localhost:8080/"
        },
        "id": "gcT_vtKnqQWu",
        "outputId": "90ec4793-620b-4951-ba51-ca74f5effc86"
      },
      "source": [
        "for x in range (2,7):\n",
        "  for y in range (5):\n",
        "    print (x+y,end = \" \")\n",
        "  print()"
      ],
      "execution_count": null,
      "outputs": [
        {
          "output_type": "stream",
          "name": "stdout",
          "text": [
            "2 3 4 5 6 \n",
            "3 4 5 6 7 \n",
            "4 5 6 7 8 \n",
            "5 6 7 8 9 \n",
            "6 7 8 9 10 \n"
          ]
        }
      ]
    }
  ]
}