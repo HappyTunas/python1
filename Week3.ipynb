{
  "nbformat": 4,
  "nbformat_minor": 0,
  "metadata": {
    "colab": {
      "name": "Week3.ipynb",
      "provenance": [],
      "authorship_tag": "ABX9TyMuDprsr5hGhbLR7QmZ9CCp",
      "include_colab_link": true
    },
    "kernelspec": {
      "name": "python3",
      "display_name": "Python 3"
    },
    "language_info": {
      "name": "python"
    }
  },
  "cells": [
    {
      "cell_type": "markdown",
      "metadata": {
        "id": "view-in-github",
        "colab_type": "text"
      },
      "source": [
        "<a href=\"https://colab.research.google.com/github/HappyTunas/python1/blob/main/Week3.ipynb\" target=\"_parent\"><img src=\"https://colab.research.google.com/assets/colab-badge.svg\" alt=\"Open In Colab\"/></a>"
      ]
    },
    {
      "cell_type": "code",
      "metadata": {
        "id": "LrpioQ1a5f3F"
      },
      "source": [
        ""
      ],
      "execution_count": null,
      "outputs": []
    },
    {
      "cell_type": "code",
      "metadata": {
        "colab": {
          "base_uri": "https://localhost:8080/"
        },
        "id": "MKRBq4x_54j9",
        "outputId": "8ef54c3b-b749-44c4-ddca-e28786232c6f"
      },
      "source": [
        "from google.colab import drive\n",
        "drive.mount('/content/drive')"
      ],
      "execution_count": 1,
      "outputs": [
        {
          "output_type": "stream",
          "name": "stdout",
          "text": [
            "Mounted at /content/drive\n"
          ]
        }
      ]
    },
    {
      "cell_type": "code",
      "metadata": {
        "colab": {
          "base_uri": "https://localhost:8080/"
        },
        "id": "OG7G3gnc9-4n",
        "outputId": "1ec607df-44a0-4ba0-bc19-a428f6f21a4b"
      },
      "source": [
        "x=int(input(\"how many people are eating:\"));\n",
        "\n",
        "\n",
        "print(\"Number of chicken:\", x * 1,\"chickens\")\n",
        "print(\"Number of beer:\", x * 2, \"cans of beer\")\n",
        "print(\"Number of cake:\", x * 4, \"cakes\")"
      ],
      "execution_count": 7,
      "outputs": [
        {
          "output_type": "stream",
          "name": "stdout",
          "text": [
            "how many people are eating:25\n",
            "Number of chicken: 25 chickens\n",
            "Number of beer: 50 cans of beer\n",
            "Number of cake: 100 cakes\n"
          ]
        }
      ]
    },
    {
      "cell_type": "code",
      "metadata": {
        "colab": {
          "base_uri": "https://localhost:8080/"
        },
        "id": "t462EkYB-W7w",
        "outputId": "057c7a98-66b3-43f0-99b5-6c336de2188d"
      },
      "source": [
        "x=10\n",
        "y=20\n",
        "z=x\n",
        "\n",
        "x=y\n",
        "y=z\n",
        "print(x,y)"
      ],
      "execution_count": 12,
      "outputs": [
        {
          "output_type": "stream",
          "name": "stdout",
          "text": [
            "20 10\n"
          ]
        }
      ]
    },
    {
      "cell_type": "code",
      "metadata": {
        "id": "QErF17YiPeXA"
      },
      "source": [
        ""
      ],
      "execution_count": null,
      "outputs": []
    },
    {
      "cell_type": "code",
      "metadata": {
        "colab": {
          "base_uri": "https://localhost:8080/"
        },
        "id": "SvE8q-J8At9Q",
        "outputId": "ad1e5fcc-d98b-44e7-fd17-398c1b37342f"
      },
      "source": [
        "print(\"Sussus Amongus\")"
      ],
      "execution_count": 17,
      "outputs": [
        {
          "output_type": "stream",
          "name": "stdout",
          "text": [
            "Sussus Amongus\n"
          ]
        }
      ]
    },
    {
      "cell_type": "code",
      "metadata": {
        "colab": {
          "base_uri": "https://localhost:8080/"
        },
        "id": "bsZ_KQYSBs3P",
        "outputId": "d43a3fc7-46e6-41ed-c786-a3e4d62a5926"
      },
      "source": [
        "age=input(\"Age?:\");\n",
        "print(age)\n",
        "print(type(age));\n",
        "print(type(int(age)))"
      ],
      "execution_count": 16,
      "outputs": [
        {
          "output_type": "stream",
          "name": "stdout",
          "text": [
            "Age?:10\n",
            "10\n",
            "<class 'str'>\n",
            "<class 'int'>\n"
          ]
        }
      ]
    },
    {
      "cell_type": "code",
      "metadata": {
        "colab": {
          "base_uri": "https://localhost:8080/"
        },
        "id": "YmDxlIvEMhqw",
        "outputId": "78680660-a684-4d8e-d569-eb3a4a5467ba"
      },
      "source": [
        "x = int(input(\"First Number: \"))\n",
        "y = int(input(\"Second Number: \"))\n",
        "sum = x + y\n",
        "print(\"Answer is\" , sum)"
      ],
      "execution_count": 18,
      "outputs": [
        {
          "output_type": "stream",
          "name": "stdout",
          "text": [
            "First Number: 10\n",
            "Second Number: 20\n",
            "Answer is 30\n"
          ]
        }
      ]
    },
    {
      "cell_type": "code",
      "metadata": {
        "colab": {
          "base_uri": "https://localhost:8080/"
        },
        "id": "BvXu9TlGNpUj",
        "outputId": "634184ef-4168-4417-a25e-c152e2472cbd"
      },
      "source": [
        "x = int(input(\"What is your radius: \"))\n",
        "ball = (4/3 * 3.141592 * x**3)\n",
        "print(\"ball radius\", ball);"
      ],
      "execution_count": 21,
      "outputs": [
        {
          "output_type": "stream",
          "name": "stdout",
          "text": [
            "What is your radius: 5\n",
            "ball radius 523.5986666666666\n"
          ]
        }
      ]
    },
    {
      "cell_type": "code",
      "metadata": {
        "colab": {
          "base_uri": "https://localhost:8080/"
        },
        "id": "xH5NfyJCQROv",
        "outputId": "8dcb4065-a9d0-4416-b2fd-ec19af07cdbd"
      },
      "source": [
        "print(\"집가고샆더\")"
      ],
      "execution_count": 22,
      "outputs": [
        {
          "output_type": "stream",
          "name": "stdout",
          "text": [
            "집가고샆더\n"
          ]
        }
      ]
    },
    {
      "cell_type": "code",
      "metadata": {
        "colab": {
          "base_uri": "https://localhost:8080/"
        },
        "id": "ISNeeMeUQz3-",
        "outputId": "20a9419b-37e1-4425-fafe-48deb2be6725"
      },
      "source": [
        "x = int(input(\"How much is it?: \"))\n",
        "y = int(input(\"1000원 지폐개수: \"))\n",
        "z = int(input(\"500원 동전개수: \"))\n",
        "c = int(input(\"100원 동전개수: \"))\n",
        "change = y*1000 + z*500 + c*100 - x\n",
        "xchange = change//500\n",
        "change = change%500\n",
        "\n",
        "ychange = change//100\n",
        "change = change%100\n",
        "\n",
        "zchange = change//10\n",
        "change = change%10\n",
        "\n",
        "cchange = change//1\n",
        "\n",
        "print(\"500원\",xchange,\"개\")\n",
        "print(\"100원\",ychange, \"개\")\n",
        "print(\"10원\", zchange, \"개\")\n",
        "print(\"1원\", cchange, \"개\")"
      ],
      "execution_count": 36,
      "outputs": [
        {
          "output_type": "stream",
          "name": "stdout",
          "text": [
            "How much is it?: 750\n",
            "1000원 지폐개수: 1\n",
            "500원 동전개수: 0\n",
            "100원 동전개수: 0\n",
            "500원 0 개\n",
            "100원 2 개\n",
            "10원 5 개\n",
            "1원 0 개\n"
          ]
        }
      ]
    },
    {
      "cell_type": "code",
      "metadata": {
        "colab": {
          "base_uri": "https://localhost:8080/"
        },
        "id": "t6mpQty_SPAA",
        "outputId": "0a77fbe0-49f4-49f9-b1ad-3cbe40096636"
      },
      "source": [
        "x = (input(\"Please enter your first word: \"))\n",
        "y = (input(\"Please enter your second word: \"))\n",
        "z = (input(\"Please enter your third word: \"))\n",
        "a = x[0] +y[0] +z[0]\n",
        "print(a)\n",
        "\n"
      ],
      "execution_count": 44,
      "outputs": [
        {
          "output_type": "stream",
          "name": "stdout",
          "text": [
            "Please enter your first word: Original\n",
            "Please enter your second word: Sound\n",
            "Please enter your third word: Track\n",
            "OST\n"
          ]
        }
      ]
    },
    {
      "cell_type": "code",
      "metadata": {
        "colab": {
          "base_uri": "https://localhost:8080/"
        },
        "id": "FMj1QFoBXksv",
        "outputId": "af5d06f6-0662-4679-96e0-9b3135e6b46b"
      },
      "source": [
        "print( x[0] ,y[0] ,z[0],sep='')"
      ],
      "execution_count": 46,
      "outputs": [
        {
          "output_type": "stream",
          "name": "stdout",
          "text": [
            "OST\n"
          ]
        }
      ]
    },
    {
      "cell_type": "code",
      "metadata": {
        "colab": {
          "base_uri": "https://localhost:8080/"
        },
        "id": "7nFA6SICejOE",
        "outputId": "810db96b-c621-4dbc-ff5d-7e78e9f66864"
      },
      "source": [
        "x = int(input(\"Please enter your carrier'/s weight: \"))\n",
        "if(x < 20) :\n",
        "  print(\"짐에 대한 수수료는 없읍니다.\")\n",
        "  print(\"감사합니다\")\n",
        "else :\n",
        "  print(\"짐의 무게는 얼마입니까?\" , x)\n",
        "  print(\"무거운 짐은 20,000원을 내셔야 합니다.\")\n",
        "  print(\"감사합니다\") "
      ],
      "execution_count": 52,
      "outputs": [
        {
          "output_type": "stream",
          "name": "stdout",
          "text": [
            "Please enter your carrier'/s weight: 21\n",
            "짐의 무게는 얼마입니까? 21\n",
            "무거운 짐은 20,000원을 내셔야 합니다.\n",
            "감사합니다\n"
          ]
        }
      ]
    },
    {
      "cell_type": "code",
      "metadata": {
        "id": "S-6R_vS_jt-z"
      },
      "source": [
        ""
      ],
      "execution_count": 50,
      "outputs": []
    }
  ]
}